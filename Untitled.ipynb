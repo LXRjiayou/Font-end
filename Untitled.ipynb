{
 "cells": [
  {
   "cell_type": "code",
   "execution_count": 19,
   "metadata": {},
   "outputs": [
    {
     "name": "stdout",
     "output_type": "stream",
     "text": [
      "性侵的案发现场，隔绝的私密空间，被称为“黑箱”，而揭开这个“黑箱”时，暴露出来的则是调查机构与司法体系中的更为巨大的“黑箱”。\n",
      "本书是日本#MeToo运动核心事件全纪实。2015年，4月3日，伊藤诗织就工作签证问题与当时TBS电视台华盛顿分局长、首相晋三传记作者山口敬之相约进餐会谈，却遭对方性侵。之后的一年，面对媒体、社会、司法的重重壁垒，她不断诉诸法律……为何司法系统无法制裁伤害女性的人？作为弱势群体的女性，在社会不公、大众冷漠、舆论暴力兴盛的今天，应当如何生存、如何自救？\n",
      "“在日本，女性公开承认遭受性侵不可想象，我并非勇敢，只是别无选择。”\n",
      "{'http://item.kongfz.com/book/38167547.html'}\n",
      "学导论著作那样按照事件发生的顺序罗列哲学史上的一些观点，而是完全把读者当成一点都不了解哲学，从而按照一些大问题来组织材料，叙述生动，字里行间都透露出为普通读者的考虑。随着讨论的不断深入，读者会自然而然地进入哲学的殿堂，在不知不觉中熟悉哲学史上一些重要的观点，而且很可能会对许多问题重新进行审视，真正享受思考的乐趣。\n",
      "哲学就是对智慧的爱。它是对价值重要性的坚持，是对完全陷入生活琐事而仅仅随波逐流的拒斥。我们渴望洞察，企盼理解，但我们的生活被常规攫住了，不时会被那些所谓的“消遣”或“娱乐”活动分神。我们失去的是思考的快乐、理解的挑战、灵感，以及哲学的慰藉。我们都是借着思想而生活的，所以问题的关键不在于是否从事哲学，而在于是接受一种廉价的、没有挑战的替代品，还是试图进行真正的思考。\n",
      "{'http://item.kongfz.com/book/38443354.html'}\n",
      "入口之餐，斗转星移间，何时起便已不复从前滋味？“美味珍馐”列阵豪庭，如配伍失当，也难免落得“审美灾难”，贻笑大方。饮食文化奥妙微茫，且深且众，万不可也不会就此眠去，总有因缘亲历者有识有意，一顾再顾，一谈再谈。\n",
      "《王亭之谈食》辑王亭之寓居香港等地的“美食牢骚”若干，叙忆一个“新派与旧例同台，鼎革与承袭共襄”的时代。何谓“味可冶，不可夺”？“XO酱”因何而生，又复何变？昔年赴小馆试菜，不意间如何促生知名食制？旧时广府旗人逢年节，有哪些习俗规矩？餐饮界何以被“江湖”与“鳝稿”洗刷，离真味渐行渐远？海外华人的饮食面貌曾经几何？凡此种种，多出自夜深人静处所作，现奉于读者案前几上，聊供睹字思味、一解其奥。\n",
      "风土、时节、物料，厨理、工法、旨趣，规矩、逸闻、时弊，渊源、流变、绝响……\n",
      "都付回忆笑谈中。\n",
      "{'http://item.kongfz.com/book/38204779.html'}\n",
      "《中国方术考》《中国方术续考》是李零教授的代表作，第一次汇集考古材料，系统总结了中国早期的方术知识，对中国科技史、中国思想史乃至中国文化的研究，都具有重要的启发意义。\n",
      "此次新版，李零教授对全书有所修订，并撰写了“新版前言”，说明他研究方术的初衷，讲述对中国早期宗教传统的独特认识。本书新版还特地收入作者在写完二考之后的感想，即演讲稿《绝地天通》。从李零教授的文字中，我们可以感受到一种打通古今中外的学术情怀。\n",
      "{'http://item.kongfz.com/book/20218069.html'}\n",
      "人人都爱的顾湘 全新随笔集 从《好小猫》来到《赵桥村》，探索自由自在生活的真谛定制收录读者热情好评长文《赵桥村》，画册体例细节呈现顾湘五年来同主题绘画创作\n",
      "{'http://item.kongfz.com/book/62153281.html'}\n",
      "《新教伦理与资本主义精神》是马克斯?韦伯的代表作之一。\n",
      "近代以来在世界范围具有支配性力量的资本主义，何以独独从西方文明中孕生出来？韦伯从文化宗教对社会经济发展的制约这一角度提出，近代资本主义以其理性化的持续经营和组织劳动为特征，而资本主义精神中的核心要素，即“天职”思想、为职业劳动献身的工作伦理，与基督新教的禁欲性格具有天然的内在亲和性。新教，尤其是加尔文教派将工作奉为天职，有系统且理性地追求合法利得的人生观，正是资本主义发展zui适合的精神动力。新教的人生观促进了基于职业理念上的理性化的生活倾向，如今，这已成为现代市民普遍的生活样式。虽然禁欲精神助长了近代经济秩序的诞生，但资本主义在建立起决定一切的秩序后，将自己的根基盘踞在机械文明之上，新教的入世禁欲精神，则解体为纯粹的功利主义。褪除了宗教伦理意涵的资本主义，最终走向“无灵魂的专家，无心的享乐人，这空无者竟自负已登上人类前所未达的境界”。\n",
      "{'http://item.kongfz.com/book/51468527.html'}\n",
      "本书就北宋军事史中的“宋夏关系”及和战问题展开了全新论述。作者利用跨历史学和军事学的研究方法，对北宋中后期与西夏的关系做了全新审视。认为，北宋中后期曾有计划地向西北开拓领土，推动“开边运动”，并取得了很大成绩，本书进而以全新的战略分析方法，重新评析宋朝对辽夏战争中的各场战役，并探讨其对当朝政策、文化等问题的影响。\n",
      "{'http://item.kongfz.com/book/35884521.html'}\n",
      "《弯曲的船板》是法国当代诗人伊夫·博纳富瓦出版于二〇〇一年的诗集，收录了诗人在世纪之交创作的《夏雨》《遥远的嗓音》《在词语的圈套中》《出生时的旧居》《弯曲的船板》《依旧失明》《扔石头》这七个子集，回忆与内省交叠，抒情与思辨并举，呈现出诗人典型的晚期风格。\n",
      "{'http://item.kongfz.com/book/41265482.html'}\n",
      "古文看似很远，其实很近\n",
      "古文学来很难，却也很美\n",
      "想要学习、了解古文，要看看会写古文的人怎么讲\n",
      "近代古文大师林纾，穷毕生所学\n",
      "将“百代文宗”韩愈、柳宗元的文章抽丝剥茧，一一剖给人看\n",
      "带领读者体味纯粹的古文之美！\n",
      "------------------------------------\n",
      "阐韩柳奇思，如数家珍，授赏鉴之钤键\n",
      "发文宗妙笔，金针度人，示写作之通衢\n",
      "\n",
      "\n",
      "\n",
      "\n",
      "唐代韩愈与柳宗元提倡古文运动，在文学史上影响深远，其文章被后世奉为典范。林纾所著《韩柳文研究法》，遴选韩柳佳作一百四十余篇，逐篇剖解其文理与技巧，揭示谋篇立意、用字遣词之妙，并重视同类文章的比较分析。与一般文学评论者不同，林纾本身即为古文名家，引领一时文坛，又曾翻译外国文学百余部，深谙东西方文学之所长。故林氏评点韩柳文，能踵武桐城而后出专精，往往独标新解、别具会心。其理念与方法，不但可助读者一窥韩柳文心之奥秘，提升古文鉴赏水平，对于现代文的写作也大有裨益。\n",
      "本次整理出版之《韩柳文研究法校注》，在原书基础上增添章节，使其条理分明，并对疑难字句进行训释，以便现代读者阅读、理解。\n",
      "{'http://item.kongfz.com/book/62185809.html'}\n",
      "这是一部关于荒野生存的漫画。一个男人，为了寻求财富和刺激，迷失在遥远北方的中心地带，他正试着找到他的同伴们。在这个冰雪荒漠，除了他，就只有一条狗，再无他人。面对大自然的残酷考验——刺骨的严寒，他的生命全依赖于帮助他生火的几根小小的火柴……\n",
      "{'http://item.kongfz.com/book/53658238.html'}\n",
      "没有望远镜，没有昂贵的设备，仅凭双眼，人们也可以领略夜空中的美景。跟随这本书的指导，读者可以裸眼分辨和观赏人造卫星、行星、流星雨、彗星、星座、月海、黄道带、极光，甚至银河之外遥远的仙女星系。听起来难得一见的奇景就在每一个人的头顶。作者以平实易懂的语言搭配百余张精美的天文摄影照片，为读者带来了极为实用的裸眼观星指导。本书还包含丰富的趣味天文知识。水逆是什么？什么决定了极光的颜色？为什么有的星座不像它们代表的图像？彗星是如何命名的？宇航员如何看日出？天空中移动的“UFO”是什么？如何拥有自己的星？所有这些问题，我们都可以在本书中找到答案。 这本书可以让零基础的门外汉爱上星空，可以让观星新手快速掌握观星技巧，还可以让观星多年的天文爱好者更加享受观星的乐趣。\n",
      "{'http://item.kongfz.com/book/64927619.html'}\n",
      "本书论述的是人类历史上zui重要的章节之一：罗马帝国的灭亡。《罗马的命运》是第一本研究气候变化和传染病在罗马帝国的崩溃中所起作用的著作，叙述了自然战胜人类野心的故事。\n",
      "凯尔·哈珀将宏大的历史叙述与zui为尖端的气候科学和基因研究结合在一起，指出罗马帝国的命运不仅是由皇帝、士兵和野蛮人决定的，也是由火山爆发、太阳周期、不稳定的气候以及致命的病毒和细菌决定的。他从罗马帝国的二世纪的dianfeng时期一直叙述到七世纪拜占庭帝国的支离破碎的局面。哈珀描述了罗马人在巨大的环境压力下如何复苏，又如何再次面临危机，直到再也无法承受“小冰河时代”和反复爆发的鼠疫的打击。\n",
      "《罗马的命运》深刻地反映了人类与环境的密切关系，全面描述了历史上zui伟大的文明之一是如何面临和忍受环境的压力，zuizhong依然崩溃的。罗马帝国的例子提醒我们，气候变化和细菌进化以令人惊讶的方式塑造了我们居住的世界。\n",
      "{'http://item.kongfz.com/book/48921245.html'}\n"
     ]
    }
   ],
   "source": [
    "#项目0.A\n",
    "\n",
    "from requests_html import HTMLSession  # 从模块中导入方法\n",
    "\n",
    "session = HTMLSession()   #将方法赋值给一个变量session\n",
    "\n",
    "r = session.get(\"https://www.kongfz.com/\")    #通过赋值后的变量又获取（get）指定网址，并再一次赋值给r\n",
    "\n",
    "# 通过CSS找到新闻标签\n",
    "news = r.html.find('div.layer-region > a')     \n",
    "\n",
    "for new in news:\n",
    "    print(new.text)  # 获得新闻标题\n",
    "    print(new.absolute_links)  # 获得新闻链接"
   ]
  },
  {
   "cell_type": "code",
   "execution_count": 21,
   "metadata": {},
   "outputs": [
    {
     "name": "stdout",
     "output_type": "stream",
     "text": [
      "高薪招聘电商美工设计\n",
      "{'http://gz.ganji.com/zptaobao/3624481392x.htm'}\n"
     ]
    }
   ],
   "source": [
    "# 项目0.B\n",
    "\n",
    "from requests_html import HTMLSession   #从模块中导入方法\n",
    "\n",
    "session = HTMLSession()  #通常我们习惯将方法赋值给一个变量\n",
    "\n",
    "r = session.get(\"http://gz.ganji.com/site/s/_%E8%AE%BE%E8%AE%A1/\")   #在这里输入你想要搜索的网址\n",
    "\n",
    "# 通过xpath找到工作标签\n",
    "news = r.html.xpath('//*[@id=\"js_list\"]/div/dl[2]/dt/a')    #记住这里需要copy的是xpath\n",
    "\n",
    "for new in news:\n",
    "    print(new.text)  # 获得工作标题\n",
    "    print(new.absolute_links)  # 获得工作链接"
   ]
  },
  {
   "cell_type": "code",
   "execution_count": 27,
   "metadata": {},
   "outputs": [
    {
     "data": {
      "text/html": [
       "<img src=\"https://cn.bing.com/th?id=OIP.WRi3nD8ywLt1PLIJgyh2SgHaFj&pid=Api&rs=1\" alt=\"\">"
      ],
      "text/plain": [
       "<IPython.core.display.HTML object>"
      ]
     },
     "metadata": {},
     "output_type": "display_data"
    }
   ],
   "source": [
    "# 展示图0.A\n",
    "\n",
    "from IPython.core.display import display, HTML   #从模块中导入方法，在这里使用的是HTML的展示模式\n",
    "display(HTML('<img src=\"https://cn.bing.com/th?id=OIP.WRi3nD8ywLt1PLIJgyh2SgHaFj&pid=Api&rs=1\" alt=\"\">'))   #在这里使用图片的绝对路径"
   ]
  },
  {
   "cell_type": "code",
   "execution_count": 29,
   "metadata": {},
   "outputs": [
    {
     "data": {
      "text/markdown": [
       "![](https://cn.bing.com/th?id=OIP.WRi3nD8ywLt1PLIJgyh2SgHaFj&pid=Api&rs=1)"
      ],
      "text/plain": [
       "<IPython.core.display.Markdown object>"
      ]
     },
     "metadata": {},
     "output_type": "display_data"
    }
   ],
   "source": [
    "# 展示图0.B\n",
    "\n",
    "from IPython.core.display import display, Markdown  #从模块中导入方法，在这里使用的是markdown语法的显示图片的方法\n",
    "display(Markdown('![](https://cn.bing.com/th?id=OIP.WRi3nD8ywLt1PLIJgyh2SgHaFj&pid=Api&rs=1)'))   #图片仍然是绝对路径"
   ]
  },
  {
   "cell_type": "code",
   "execution_count": 32,
   "metadata": {},
   "outputs": [
    {
     "name": "stdout",
     "output_type": "stream",
     "text": [
      "//www.baidu.com/img/bd_logo1.png\n"
     ]
    },
    {
     "data": {
      "text/markdown": [
       "![](//www.baidu.com/img/bd_logo1.png)"
      ],
      "text/plain": [
       "<IPython.core.display.Markdown object>"
      ]
     },
     "metadata": {},
     "output_type": "display_data"
    },
    {
     "name": "stdout",
     "output_type": "stream",
     "text": [
      "//www.baidu.com/img/bd_logo1.png?qua=high\n"
     ]
    },
    {
     "data": {
      "text/markdown": [
       "![](//www.baidu.com/img/bd_logo1.png?qua=high)"
      ],
      "text/plain": [
       "<IPython.core.display.Markdown object>"
      ]
     },
     "metadata": {},
     "output_type": "display_data"
    },
    {
     "name": "stdout",
     "output_type": "stream",
     "text": [
      "//www.baidu.com/img/baidu_jgylogo3.gif\n"
     ]
    },
    {
     "data": {
      "text/markdown": [
       "![](//www.baidu.com/img/baidu_jgylogo3.gif)"
      ],
      "text/plain": [
       "<IPython.core.display.Markdown object>"
      ]
     },
     "metadata": {},
     "output_type": "display_data"
    },
    {
     "name": "stdout",
     "output_type": "stream",
     "text": [
      "//www.baidu.com/img/baidu_resultlogo@2.png\n"
     ]
    },
    {
     "data": {
      "text/markdown": [
       "![](//www.baidu.com/img/baidu_resultlogo@2.png)"
      ],
      "text/plain": [
       "<IPython.core.display.Markdown object>"
      ]
     },
     "metadata": {},
     "output_type": "display_data"
    }
   ],
   "source": [
    "#项目0.C\n",
    "\n",
    "from requests_html import HTMLSession   #从模块中导入方法\n",
    "\n",
    "session = HTMLSession()   #通常我们习惯将导入进来的方法赋值给一个变量\n",
    "\n",
    "r = session.get(\"https://www.baidu.com/\")   #在这里随意输入一个网址\n",
    "\n",
    "# 通过xpath找到工作标签\n",
    "items = r.html.xpath('//img/@src')    \n",
    "\n",
    "for url in items:\n",
    "    print(url)  # 获得图片src url\n",
    "    display(Markdown('![]({url})'.format(url=url)))  # 再使用markdown语法展示图片    "
   ]
  },
  {
   "cell_type": "code",
   "execution_count": null,
   "metadata": {},
   "outputs": [],
   "source": []
  }
 ],
 "metadata": {
  "kernelspec": {
   "display_name": "Python 3",
   "language": "python",
   "name": "python3"
  },
  "language_info": {
   "codemirror_mode": {
    "name": "ipython",
    "version": 3
   },
   "file_extension": ".py",
   "mimetype": "text/x-python",
   "name": "python",
   "nbconvert_exporter": "python",
   "pygments_lexer": "ipython3",
   "version": "3.7.3"
  }
 },
 "nbformat": 4,
 "nbformat_minor": 2
}
